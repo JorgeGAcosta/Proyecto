{
 "metadata": {
  "language": "Julia",
  "name": "",
  "signature": "sha256:628f85762aa7f30211a7291c3fe45d98f36e72ca0f1426ba5f4dfc202d5f0212"
 },
 "nbformat": 3,
 "nbformat_minor": 0,
 "worksheets": [
  {
   "cells": [
    {
     "cell_type": "heading",
     "level": 1,
     "metadata": {},
     "source": [
      "Resoluci\u00f3n de la ecuaci\u00f3n de calor en una dimensi\u00f3n"
     ]
    },
    {
     "cell_type": "markdown",
     "metadata": {},
     "source": [
      "En una dimension se tiene la ecuaci\u00f3n discreta para la ecuaci\u00f3n de calor.\n",
      "\n",
      "\n",
      "${u_i}^{k+1}= {u_i}^{k}+\\displaystyle\\frac{c\\delta t}{{\\delta s}^2}({u_{i+1}}^{k}-2{u_i}^{k}+{u_{i-1}}^{k}) $\n",
      "\n",
      "donde u es la temperatura,c es la constante de difusion,$\\delta t$ el paso de tiempo,$\\delta s$ la distancia entre dos puntos adyacentes de la discretizacion.El indice i discretiza el espacio, mientras que k el tiempo."
     ]
    },
    {
     "cell_type": "markdown",
     "metadata": {},
     "source": [
      "Se define una funci\u00f3n que da el paso de tiempo adecuado. Para que el m\u00e9todo de diferencias finitas sea estable se requiere que el paso de tiempo cumpla la desigualdad\n",
      "\n",
      "$\\delta t \\leq \\displaystyle\\frac{(\\delta s)^2}{2c}$"
     ]
    },
    {
     "cell_type": "code",
     "collapsed": false,
     "input": [
      "function pasodetiempo(ds,c,tiempo)\n",
      "    n=1\n",
      "    while tiempo>(n*(ds^2)/(2*c))\n",
      "       n=n+1\n",
      "    end\n",
      "    paso=tiempo/n\n",
      "end"
     ],
     "language": "python",
     "metadata": {},
     "outputs": [
      {
       "metadata": {},
       "output_type": "pyout",
       "prompt_number": 37,
       "text": [
        "pasodetiempo (generic function with 1 method)"
       ]
      }
     ],
     "prompt_number": 37
    },
    {
     "cell_type": "code",
     "collapsed": false,
     "input": [
      "function calor1(rejilla,tiempofinal,c,g,h,a,b)\n",
      "    #c constante de difusion,g es una funcion del tiempo que me da la temperatura en el punto \n",
      "    #inicial de la barra,h tambien es una funcion dependiente del tiempo con la cual se calcula la temperatura en el punto final \n",
      "    #de la barra, a y b son los puntos iniciales y finales de la barra.\n",
      "    reja,ds=rejilla\n",
      "    n=length(reja)\n",
      "    #df=tiempofinal/(divt-1)\n",
      "    df=pasodetiempo(ds,c,tiempofinal)\n",
      "    reja[1]=g(0,a)\n",
      "    reja[n]=h(0,b)\n",
      "    solucion=vcat(zeros(n)',reja')\n",
      "    renglon=zeros(n)\n",
      "    for i in  df:df:tiempofinal\n",
      "        j=2\n",
      "        while j<n\n",
      "            z=int(i/df)+1\n",
      "        renglon[1]=g(i,a)\n",
      "        renglon[n]=h(i,b)\n",
      "           \n",
      "            renglon[j]=round(solucion[z,j]+(c*df/(ds^2))*(solucion[z,j+1]-2*solucion[z,j]+solucion[z,j-1]),3)\n",
      "            j=j+1\n",
      "        end\n",
      "        solucion=vcat(solucion,renglon')\n",
      "        \n",
      "end\n",
      "    solucion[2:end;:]\n",
      "end"
     ],
     "language": "python",
     "metadata": {},
     "outputs": [
      {
       "metadata": {},
       "output_type": "pyout",
       "prompt_number": 38,
       "text": [
        "calor1 (generic function with 1 method)"
       ]
      }
     ],
     "prompt_number": 38
    },
    {
     "cell_type": "code",
     "collapsed": false,
     "input": [
      "a=[1,2,3,4]'"
     ],
     "language": "python",
     "metadata": {},
     "outputs": [
      {
       "metadata": {},
       "output_type": "pyout",
       "prompt_number": 39,
       "text": [
        "1x4 Array{Int64,2}:\n",
        " 1  2  3  4"
       ]
      }
     ],
     "prompt_number": 39
    },
    {
     "cell_type": "code",
     "collapsed": false,
     "input": [
      "a=vcat(a,zeros(4)')\n",
      "a=vcat(a,ones(4)')"
     ],
     "language": "python",
     "metadata": {},
     "outputs": [
      {
       "metadata": {},
       "output_type": "pyout",
       "prompt_number": 40,
       "text": [
        "3x4 Array{Float64,2}:\n",
        " 1.0  2.0  3.0  4.0\n",
        " 0.0  0.0  0.0  0.0\n",
        " 1.0  1.0  1.0  1.0"
       ]
      }
     ],
     "prompt_number": 40
    },
    {
     "cell_type": "code",
     "collapsed": false,
     "input": [
      "a[2:end;:]"
     ],
     "language": "python",
     "metadata": {},
     "outputs": [
      {
       "metadata": {},
       "output_type": "pyout",
       "prompt_number": 41,
       "text": [
        "2x4 Array{Float64,2}:\n",
        " 0.0  0.0  0.0  0.0\n",
        " 1.0  1.0  1.0  1.0"
       ]
      }
     ],
     "prompt_number": 41
    },
    {
     "cell_type": "code",
     "collapsed": false,
     "input": [
      "#Esta funci\u00f3n crea una rejilla de dimensi\u00f3n 1, 2 o 3 con un n\u00famero de divisiones dado y llena cada espacio con el valor de la \n",
      "#temperatura al tiempo cero. Adem\u00e1s, deja libres los valores en la frontera, para llenarlos posteriormente.\n",
      "function rejilla (dimension, longitud, num_puntos,temp_0)                                                                                                       \n",
      "    \u0394s=longitud/(num_puntos-1)                                                                                                                                  \n",
      "    if dimension==1                                                                                                                                             \n",
      "        A=zeros(num_puntos)                                                                                                                                     \n",
      "        for i in 2:num_puntos-1                                                                                                                                 \n",
      "            A[i]=temp_0((i-1)*\u0394s)                                                                                                                               \n",
      "        end                                                                                                                                                     \n",
      "    end                                                                                                                                                         \n",
      "    if dimension==2                                                                                                                                             \n",
      "        A=zeros(num_puntos,num_puntos)                                                                                                                          \n",
      "        for i in 2:num_puntos-1                                                                                                                                 \n",
      "            for j in 2:num_puntos-1                                                                                                                             \n",
      "                A[i,j]=temp_0((i-1)*\u0394s,(j-1)*\u0394s)                                                                                                                \n",
      "            end                                                                                                                                                 \n",
      "        end                                                                                                                                                     \n",
      "    end                                                                                                                                                         \n",
      "    if dimension==3                                                                                                                                             \n",
      "            A=zeros(num_puntos,num_puntos,num_puntos)                                                                                                           \n",
      "        for i in 2:num_puntos-1                                                                                                                                 \n",
      "            for j in 2:num_puntos-1                                                                                                                             \n",
      "                for k in 2:num_puntos-1                                                                                                                         \n",
      "                    A[i,j,k]=temp_0((i-1)*\u0394s,(j-1)*\u0394s,(k-1)*\u0394s)                                                                                                 \n",
      "                end                                                                                                                                             \n",
      "            end                                                                                                                                                 \n",
      "        end                                                                                                                                                     \n",
      "    end                                                                                                                                                         \n",
      "    return A, \u0394s                                                                                                                                                \n",
      "end   "
     ],
     "language": "python",
     "metadata": {},
     "outputs": [
      {
       "metadata": {},
       "output_type": "pyout",
       "prompt_number": 42,
       "text": [
        "rejilla (generic function with 1 method)"
       ]
      }
     ],
     "prompt_number": 42
    },
    {
     "cell_type": "code",
     "collapsed": false,
     "input": [
      "temperaturaprueba(x)=x"
     ],
     "language": "python",
     "metadata": {},
     "outputs": [
      {
       "metadata": {},
       "output_type": "pyout",
       "prompt_number": 43,
       "text": [
        "temperaturaprueba (generic function with 1 method)"
       ]
      }
     ],
     "prompt_number": 43
    },
    {
     "cell_type": "code",
     "collapsed": false,
     "input": [
      "barra1=rejilla(1,5,15,temperaturaprueba)"
     ],
     "language": "python",
     "metadata": {},
     "outputs": [
      {
       "metadata": {},
       "output_type": "pyout",
       "prompt_number": 44,
       "text": [
        "([0.0,0.357143,0.714286,1.07143,1.42857,1.78571,2.14286,2.5,2.85714,3.21429,3.57143,3.92857,4.28571,4.64286,0.0],0.35714285714285715)"
       ]
      }
     ],
     "prompt_number": 44
    },
    {
     "cell_type": "code",
     "collapsed": false,
     "input": [
      "temperaturapuntoa(t,x)=x^2\n",
      "temperaturapuntob(t,x)=x^3"
     ],
     "language": "python",
     "metadata": {},
     "outputs": [
      {
       "metadata": {},
       "output_type": "pyout",
       "prompt_number": 45,
       "text": [
        "temperaturapuntob (generic function with 1 method)"
       ]
      }
     ],
     "prompt_number": 45
    },
    {
     "cell_type": "code",
     "collapsed": false,
     "input": [
      "using PyPlot"
     ],
     "language": "python",
     "metadata": {},
     "outputs": [],
     "prompt_number": 46
    },
    {
     "cell_type": "code",
     "collapsed": false,
     "input": [
      "calor1(barra1,20,1,temperaturapuntoa,temperaturapuntob,0,5) "
     ],
     "language": "python",
     "metadata": {},
     "outputs": [
      {
       "metadata": {},
       "output_type": "pyout",
       "prompt_number": 47,
       "text": [
        "315x15 Array{Float64,2}:\n",
        " 0.0  0.357143   0.714286   1.07143   1.42857  \u2026    4.28571    4.64286  125.0\n",
        " 0.0  0.357      0.714      1.071     1.429         4.286     64.566    125.0\n",
        " 0.0  0.357      0.714      1.071     1.429        34.209     64.643    125.0\n",
        " 0.0  0.357      0.714      1.071     1.429        34.286     79.585    125.0\n",
        " 0.0  0.357      0.714      1.071     1.429        49.209     79.643    125.0\n",
        " 0.0  0.357      0.714      1.071     1.429    \u2026   49.285     87.095    125.0\n",
        " 0.0  0.357      0.714      1.071     1.429        58.589     87.142    125.0\n",
        " 0.0  0.357      0.714      1.071     1.429        58.66      91.789    125.0\n",
        " 0.0  0.357      0.714      1.071     1.429        65.157     91.83     125.0\n",
        " 0.0  0.357      0.714      1.071     1.429        65.222     95.074    125.0\n",
        " 0.0  0.357      0.714      1.071     1.544    \u2026   70.083     95.111    125.0\n",
        " 0.0  0.357      0.714      1.129     1.545        70.144     97.538    125.0\n",
        " 0.0  0.357      0.743      1.129     1.834        73.954     97.572    125.0\n",
        " \u22ee                                             \u22f1                             \n",
        " 0.0  8.917     17.835     26.755    35.675       107.121    116.06     125.0\n",
        " 0.0  8.917     17.836     26.755    35.677       107.121    116.06     125.0\n",
        " 0.0  8.918     17.836     26.756    35.677    \u2026  107.121    116.06     125.0\n",
        " 0.0  8.918     17.837     26.756    35.678       107.122    116.06     125.0\n",
        " 0.0  8.918     17.837     26.757    35.678       107.122    116.061    125.0\n",
        " 0.0  8.918     17.837     26.757    35.679       107.123    116.061    125.0\n",
        " 0.0  8.918     17.837     26.758    35.679       107.123    116.061    125.0\n",
        " 0.0  8.918     17.838     26.758    35.68     \u2026  107.123    116.061    125.0\n",
        " 0.0  8.919     17.838     26.759    35.68        107.123    116.061    125.0\n",
        " 0.0  8.919     17.839     26.759    35.681       107.124    116.061    125.0\n",
        " 0.0  8.919     17.839     26.76     35.681       107.124    116.062    125.0\n",
        " 0.0  8.919     17.839     26.76     35.682       107.125    116.062    125.0"
       ]
      }
     ],
     "prompt_number": 47
    },
    {
     "cell_type": "heading",
     "level": 2,
     "metadata": {},
     "source": [
      "Resoluci\u00f3n en dos dimensiones"
     ]
    },
    {
     "cell_type": "markdown",
     "metadata": {},
     "source": [
      "La ecuaci\u00f3n de calor discretizada esta dada por\n",
      "\n",
      "\n",
      "${u_{ij}}^{k+1}= {u_{ij}}^{k}+\\displaystyle\\frac{c\\delta t}{{\\delta s}^2}({u_{i+1,j}}^{k}+{u_{i-1,j}}^{k}-4{u_{ij}}^{k}+{u_{i,j+1}}^{k}+{u_{i,j-1}}^{k}) $"
     ]
    },
    {
     "cell_type": "code",
     "collapsed": false,
     "input": [],
     "language": "python",
     "metadata": {},
     "outputs": []
    }
   ],
   "metadata": {}
  }
 ]
}