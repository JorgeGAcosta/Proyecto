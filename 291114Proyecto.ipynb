{
 "metadata": {
  "language": "Julia",
  "name": "",
  "signature": "sha256:904feb590b594d02180ede7dc8d82e5527f2a3c899c70f21381e8f681a5bf81d"
 },
 "nbformat": 3,
 "nbformat_minor": 0,
 "worksheets": [
  {
   "cells": [
    {
     "cell_type": "heading",
     "level": 1,
     "metadata": {},
     "source": [
      "Resoluci\u00f3n de la ecuaci\u00f3n de calor en una dimensi\u00f3n"
     ]
    },
    {
     "cell_type": "markdown",
     "metadata": {},
     "source": [
      "En una dimension se tiene la ecuaci\u00f3n discreta para la ecuaci\u00f3n de calor.\n",
      "\n",
      "\n",
      "${u_i}^{k+1}= {u_i}^{k}+\\displaystyle\\frac{c\\delta t}{{\\delta s}^2}({u_{i+1}}^{k}-2{u_i}^{k}+{u_{i-1}}^{k}) $\n",
      "\n",
      "donde u es la temperatura,c es la constante de difusion,$\\delta t$ el paso de tiempo,$\\delta s$ la distancia entre dos puntos adyacentes de la discretizacion.El indice i discretiza el espacio, mientras que k el tiempo."
     ]
    },
    {
     "cell_type": "markdown",
     "metadata": {},
     "source": [
      "Se define una funci\u00f3n que da el paso de tiempo adecuado. Para que el m\u00e9todo de diferencias finitas sea estable se requiere que el paso de tiempo cumpla la desigualdad\n",
      "\n",
      "$\\delta t \\leq \\displaystyle\\frac{(\\delta s)^2}{2c}$"
     ]
    },
    {
     "cell_type": "code",
     "collapsed": false,
     "input": [
      "function pasodetiempo(ds,c,tiempo)\n",
      "    n=1\n",
      "    while tiempo>(n*(ds^2)/(2*c))\n",
      "       n=n+1\n",
      "    end\n",
      "    paso=tiempo/(2*n)\n",
      "end"
     ],
     "language": "python",
     "metadata": {},
     "outputs": [
      {
       "metadata": {},
       "output_type": "pyout",
       "prompt_number": 114,
       "text": [
        "pasodetiempo (generic function with 1 method)"
       ]
      }
     ],
     "prompt_number": 114
    },
    {
     "cell_type": "code",
     "collapsed": false,
     "input": [
      "function calor1(rejilla,tiempofinal,c,g,h,a,b)\n",
      "    #c constante de difusion,g es una funcion del tiempo que me da la temperatura en el punto \n",
      "    #inicial de la barra,h tambien es una funcion dependiente del tiempo con la cual se calcula la temperatura en el punto final \n",
      "    #de la barra, a y b son los puntos iniciales y finales de la barra.\n",
      "    reja,ds=rejilla\n",
      "    n=length(reja)\n",
      "    #df=tiempofinal/(divt-1)\n",
      "    df=pasodetiempo(ds,c,tiempofinal)\n",
      "    reja[1]=g(0,a)\n",
      "    reja[n]=h(0,b)\n",
      "    solucion=vcat(zeros(n)',reja')\n",
      "    renglon=zeros(n)\n",
      "    for i in  df:df:tiempofinal\n",
      "        j=2\n",
      "        while j<n\n",
      "            z=int(i/df)+1\n",
      "        renglon[1]=g(i,a)\n",
      "        renglon[n]=h(i,b)\n",
      "           \n",
      "            renglon[j]=round(solucion[z,j]+(c*df/(ds^2))*(solucion[z,j+1]-2*solucion[z,j]+solucion[z,j-1]),3)\n",
      "            j=j+1\n",
      "        end\n",
      "        solucion=vcat(solucion,renglon')\n",
      "        \n",
      "end\n",
      "    solucion[2:end;:]\n",
      "end"
     ],
     "language": "python",
     "metadata": {},
     "outputs": [
      {
       "metadata": {},
       "output_type": "pyout",
       "prompt_number": 115,
       "text": [
        "calor1 (generic function with 1 method)"
       ]
      }
     ],
     "prompt_number": 115
    },
    {
     "cell_type": "code",
     "collapsed": false,
     "input": [
      "#Esta funci\u00f3n crea una rejilla de dimensi\u00f3n 1, 2 o 3 con un n\u00famero de divisiones dado y llena cada espacio con el valor de la \n",
      "#temperatura al tiempo cero. Adem\u00e1s, deja libres los valores en la frontera, para llenarlos posteriormente.\n",
      "function rejilla (dimension, longitud, num_puntos,temp_0)                                                                                                       \n",
      "    \u0394s=longitud/(num_puntos-1)                                                                                                                                  \n",
      "    if dimension==1                                                                                                                                             \n",
      "        A=zeros(num_puntos)                                                                                                                                     \n",
      "        for i in 2:num_puntos-1                                                                                                                                 \n",
      "            A[i]=temp_0((i-1)*\u0394s)                                                                                                                               \n",
      "        end                                                                                                                                                     \n",
      "    end                                                                                                                                                         \n",
      "    if dimension==2                                                                                                                                             \n",
      "        A=zeros(num_puntos,num_puntos)                                                                                                                          \n",
      "        for i in 2:num_puntos-1                                                                                                                                 \n",
      "            for j in 2:num_puntos-1                                                                                                                             \n",
      "                A[i,j]=temp_0((i-1)*\u0394s,(j-1)*\u0394s)                                                                                                                \n",
      "            end                                                                                                                                                 \n",
      "        end                                                                                                                                                     \n",
      "    end                                                                                                                                                         \n",
      "    if dimension==3                                                                                                                                             \n",
      "            A=zeros(num_puntos,num_puntos,num_puntos)                                                                                                           \n",
      "        for i in 2:num_puntos-1                                                                                                                                 \n",
      "            for j in 2:num_puntos-1                                                                                                                             \n",
      "                for k in 2:num_puntos-1                                                                                                                         \n",
      "                    A[i,j,k]=temp_0((i-1)*\u0394s,(j-1)*\u0394s,(k-1)*\u0394s)                                                                                                 \n",
      "                end                                                                                                                                             \n",
      "            end                                                                                                                                                 \n",
      "        end                                                                                                                                                     \n",
      "    end                                                                                                                                                         \n",
      "    return A, \u0394s                                                                                                                                                \n",
      "end   "
     ],
     "language": "python",
     "metadata": {},
     "outputs": [
      {
       "metadata": {},
       "output_type": "pyout",
       "prompt_number": 116,
       "text": [
        "rejilla (generic function with 1 method)"
       ]
      }
     ],
     "prompt_number": 116
    },
    {
     "cell_type": "code",
     "collapsed": false,
     "input": [
      "temperaturaprueba(x)=x"
     ],
     "language": "python",
     "metadata": {},
     "outputs": [
      {
       "metadata": {},
       "output_type": "pyout",
       "prompt_number": 117,
       "text": [
        "temperaturaprueba (generic function with 1 method)"
       ]
      }
     ],
     "prompt_number": 117
    },
    {
     "cell_type": "code",
     "collapsed": false,
     "input": [
      "barra1=rejilla(1,5,15,temperaturaprueba)"
     ],
     "language": "python",
     "metadata": {},
     "outputs": [
      {
       "metadata": {},
       "output_type": "pyout",
       "prompt_number": 118,
       "text": [
        "([0.0,0.357143,0.714286,1.07143,1.42857,1.78571,2.14286,2.5,2.85714,3.21429,3.57143,3.92857,4.28571,4.64286,0.0],0.35714285714285715)"
       ]
      }
     ],
     "prompt_number": 118
    },
    {
     "cell_type": "code",
     "collapsed": false,
     "input": [
      "temperaturapuntoa(t,x)=x^2\n",
      "temperaturapuntob(t,x)=x^3"
     ],
     "language": "python",
     "metadata": {},
     "outputs": [
      {
       "metadata": {},
       "output_type": "pyout",
       "prompt_number": 119,
       "text": [
        "temperaturapuntob (generic function with 1 method)"
       ]
      }
     ],
     "prompt_number": 119
    },
    {
     "cell_type": "code",
     "collapsed": false,
     "input": [
      "calor1(barra1,20,1,temperaturapuntoa,temperaturapuntob,0,5);"
     ],
     "language": "python",
     "metadata": {},
     "outputs": [],
     "prompt_number": 135
    },
    {
     "cell_type": "heading",
     "level": 2,
     "metadata": {},
     "source": [
      "Resoluci\u00f3n en dos dimensiones"
     ]
    },
    {
     "cell_type": "markdown",
     "metadata": {},
     "source": [
      "La ecuaci\u00f3n de calor discretizada esta dada por\n",
      "\n",
      "\n",
      "${u_{ij}}^{k+1}= {u_{ij}}^{k}+\\displaystyle\\frac{c\\delta t}{{\\delta s}^2}({u_{i+1,j}}^{k}+{u_{i-1,j}}^{k}-4{u_{ij}}^{k}+{u_{i,j+1}}^{k}+{u_{i,j-1}}^{k}) $"
     ]
    },
    {
     "cell_type": "code",
     "collapsed": false,
     "input": [
      "pruebatemp2d(x,y)=x+y"
     ],
     "language": "python",
     "metadata": {},
     "outputs": [
      {
       "metadata": {},
       "output_type": "pyout",
       "prompt_number": 121,
       "text": [
        "pruebatemp2d (generic function with 1 method)"
       ]
      }
     ],
     "prompt_number": 121
    },
    {
     "cell_type": "code",
     "collapsed": false,
     "input": [
      "rejaen2d=rejilla(2,7,10,pruebatemp2d)"
     ],
     "language": "python",
     "metadata": {},
     "outputs": [
      {
       "metadata": {},
       "output_type": "pyout",
       "prompt_number": 169,
       "text": [
        "(\n",
        "10x10 Array{Float64,2}:\n",
        " 0.0  0.0      0.0      0.0      \u2026   0.0       0.0       0.0      0.0\n",
        " 0.0  1.55556  2.33333  3.11111      5.44444   6.22222   7.0      0.0\n",
        " 0.0  2.33333  3.11111  3.88889      6.22222   7.0       7.77778  0.0\n",
        " 0.0  3.11111  3.88889  4.66667      7.0       7.77778   8.55556  0.0\n",
        " 0.0  3.88889  4.66667  5.44444      7.77778   8.55556   9.33333  0.0\n",
        " 0.0  4.66667  5.44444  6.22222  \u2026   8.55556   9.33333  10.1111   0.0\n",
        " 0.0  5.44444  6.22222  7.0          9.33333  10.1111   10.8889   0.0\n",
        " 0.0  6.22222  7.0      7.77778     10.1111   10.8889   11.6667   0.0\n",
        " 0.0  7.0      7.77778  8.55556     10.8889   11.6667   12.4444   0.0\n",
        " 0.0  0.0      0.0      0.0          0.0       0.0       0.0      0.0,\n",
        "\n",
        "0.7777777777777778)"
       ]
      }
     ],
     "prompt_number": 169
    },
    {
     "cell_type": "code",
     "collapsed": false,
     "input": [
      "function calor2(rejilla,tiempofinal,c,g) #g es una funcion que depende del tiempo y la posicion y da los valores en la frontera\n",
      "    #los argumentos de g son g(t,x,y)\n",
      "reja,ds=rejilla\n",
      "n=length(reja[1,:])\n",
      "df=pasodetiempo(ds,c,tiempofinal)\n",
      "    tamanotiempo=int(tiempofinal/df)+1\n",
      "#Fijo los valores inciales en las fronteras\n",
      "for i in 1:n\n",
      "        reja[1,i]=g(0,ds*(i-1),0)\n",
      "        reja[i,1]=g(0,0,ds*(i-1))\n",
      "        reja[i,n]=g(0,(n-1)*ds,ds*(i-1))\n",
      "        reja[n,i]=g(0,ds*(i-1),(n-1)*ds)\n",
      "    end\n",
      "#Introduzco un arreglo con tres indices, el primer indice corresponde al tiempo y los otros dos a las posiciones x y y(en ese orden)\n",
      "    solucion=zeros(tamanotiempo,n,n)\n",
      "    for i in 1:n,j in 1:n    \n",
      "        solucion[1,i,j]=reja[i,j]\n",
      "    end\n",
      "#Ahora se aplica la ecuacion que discretiza la ecuacion de calor\n",
      "for k in 2:tamanotiempo\n",
      "        #Primero se fijan las fronteras         \n",
      "        for i in 1:n\n",
      "        solucion[k,1,i]=g(0,ds*(i-1),0)\n",
      "        solucion[k,i,1]=g(0,0,ds*(i-1))\n",
      "        solucion[k,i,n]=g(0,(n-1)*ds,ds*(i-1))\n",
      "        solucion[k,n,i]=g(0,ds*(i-1),(n-1)*ds)\n",
      "    end \n",
      "        #Se aplica la ecuacion de calor a cada punto interior\n",
      "        for i in 2:n-1,j in 2:n-1  \n",
      "            solucion[k,i,j]=solucion[k-1,i,j]+(c*df/(ds^2))*(solucion[k-1,i+1,j]+solucion[k-1,i-1,j]-4*solucion[k-1,i,j]+solucion[k-1,i,j+1]+solucion[k-1,i,j-1])\n",
      "        end\n",
      "    end\n",
      "    #Coloco el tiempo en el primer indice\n",
      "for i in 1:tamanotiempo-1\n",
      "        solucion[i+1,1,1]=i*df\n",
      "        end\n",
      "    solucion,df,ds\n",
      "end\n"
     ],
     "language": "python",
     "metadata": {},
     "outputs": [
      {
       "metadata": {},
       "output_type": "pyout",
       "prompt_number": 194,
       "text": [
        "calor2 (generic function with 1 method)"
       ]
      }
     ],
     "prompt_number": 194
    },
    {
     "cell_type": "code",
     "collapsed": false,
     "input": [
      "frontera2d(t,x,y)=x^2+y"
     ],
     "language": "python",
     "metadata": {},
     "outputs": [
      {
       "metadata": {},
       "output_type": "pyout",
       "prompt_number": 140,
       "text": [
        "frontera2d (generic function with 1 method)"
       ]
      }
     ],
     "prompt_number": 140
    },
    {
     "cell_type": "code",
     "collapsed": false,
     "input": [
      "pruebaen2d,deltat,deltas=calor2(rejaen2d,15.3,1,frontera2d);"
     ],
     "language": "python",
     "metadata": {},
     "outputs": [],
     "prompt_number": 195
    },
    {
     "cell_type": "code",
     "collapsed": false,
     "input": [
      "deltat,deltas"
     ],
     "language": "python",
     "metadata": {},
     "outputs": [
      {
       "metadata": {},
       "output_type": "pyout",
       "prompt_number": 196,
       "text": [
        "(0.15,0.7777777777777778)"
       ]
      }
     ],
     "prompt_number": 196
    },
    {
     "cell_type": "code",
     "collapsed": false,
     "input": [
      "paragrafica=pruebaen2d[2,:,1]    "
     ],
     "language": "python",
     "metadata": {},
     "outputs": [
      {
       "metadata": {},
       "output_type": "pyout",
       "prompt_number": 214,
       "text": [
        "1x10 Array{Float64,2}:\n",
        " 0.15  0.777778  1.55556  2.33333  3.11111  \u2026  4.66667  5.44444  6.22222  7.0"
       ]
      }
     ],
     "prompt_number": 214
    },
    {
     "cell_type": "code",
     "collapsed": false,
     "input": [
      "for i in 2:10\n",
      "    paragrafica=vcat(paragrafica,pruebaen2d[2,:,i])\n",
      "end"
     ],
     "language": "python",
     "metadata": {},
     "outputs": [],
     "prompt_number": 215
    },
    {
     "cell_type": "code",
     "collapsed": false,
     "input": [
      "using PyPlot"
     ],
     "language": "python",
     "metadata": {},
     "outputs": [],
     "prompt_number": 164
    },
    {
     "cell_type": "code",
     "collapsed": false,
     "input": [
      "paragrafica"
     ],
     "language": "python",
     "metadata": {},
     "outputs": [
      {
       "metadata": {},
       "output_type": "pyout",
       "prompt_number": 216,
       "text": [
        "10x10 Array{Float64,2}:\n",
        "  0.15       0.777778   1.55556   2.33333  \u2026   5.44444   6.22222   7.0    \n",
        "  0.604938   1.5127     2.33333   3.11111      6.22222   6.95714   7.60494\n",
        "  2.41975    2.54762    3.11111   3.88889      7.0       7.99206   9.41975\n",
        "  5.44444    3.88254    3.88889   4.66667      7.77778   9.32698  12.4444 \n",
        "  9.67901    5.51746    4.66667   5.44444      8.55556  10.9619   16.679  \n",
        " 15.1235     7.45238    5.44444   6.22222  \u2026   9.33333  12.8968   22.1235 \n",
        " 21.7778     9.6873     6.22222   7.0         10.1111   15.1317   28.7778 \n",
        " 29.642     12.2222     7.0       7.77778     10.8889   17.6667   36.642  \n",
        " 38.716     25.4714    18.1921   18.9698      22.081    30.9159   45.716  \n",
        " 49.0       49.7778    50.5556   51.3333      54.4444   55.2222   56.0    "
       ]
      }
     ],
     "prompt_number": 216
    },
    {
     "cell_type": "code",
     "collapsed": false,
     "input": [
      "imshow(paragrafica)\n",
      "plt.colorbar()"
     ],
     "language": "python",
     "metadata": {},
     "outputs": [
      {
       "metadata": {},
       "output_type": "display_data",
       "png": "[encoded data removed]",
       "text": [
        "Figure(PyObject <matplotlib.figure.Figure object at 0xb603b22c>)"
       ]
      },
      {
       "metadata": {},
       "output_type": "pyout",
       "prompt_number": 183,
       "text": [
        "PyObject <matplotlib.colorbar.Colorbar instance at 0xabf3e96c>"
       ]
      }
     ],
     "prompt_number": 183
    },
    {
     "cell_type": "code",
     "collapsed": false,
     "input": [
      "az=zeros(15,4,4)\n",
      "az[1,:,:]=ones(4,4);"
     ],
     "language": "python",
     "metadata": {},
     "outputs": [],
     "prompt_number": 128
    },
    {
     "cell_type": "code",
     "collapsed": false,
     "input": [
      "for i in 2:15\n",
      "    for j in 2:3,k in 2:3\n",
      "        az[i,j,k]=az[i-1,j,k]+az[i-1,j+1,k]\n",
      "    end\n",
      "end\n"
     ],
     "language": "python",
     "metadata": {},
     "outputs": [],
     "prompt_number": 129
    },
    {
     "cell_type": "code",
     "collapsed": false,
     "input": [
      "az[3,:,:]"
     ],
     "language": "python",
     "metadata": {},
     "outputs": [
      {
       "metadata": {},
       "output_type": "pyout",
       "prompt_number": 130,
       "text": [
        "1x4x4 Array{Float64,3}:\n",
        "[:, :, 1] =\n",
        " 0.0  0.0  0.0  0.0\n",
        "\n",
        "[:, :, 2] =\n",
        " 0.0  4.0  2.0  0.0\n",
        "\n",
        "[:, :, 3] =\n",
        " 0.0  4.0  2.0  0.0\n",
        "\n",
        "[:, :, 4] =\n",
        " 0.0  0.0  0.0  0.0"
       ]
      }
     ],
     "prompt_number": 130
    },
    {
     "cell_type": "code",
     "collapsed": false,
     "input": [
      "qwesa=az[1,:,:]"
     ],
     "language": "python",
     "metadata": {},
     "outputs": [
      {
       "metadata": {},
       "output_type": "pyout",
       "prompt_number": 131,
       "text": [
        "1x4x4 Array{Float64,3}:\n",
        "[:, :, 1] =\n",
        " 1.0  1.0  1.0  1.0\n",
        "\n",
        "[:, :, 2] =\n",
        " 1.0  1.0  1.0  1.0\n",
        "\n",
        "[:, :, 3] =\n",
        " 1.0  1.0  1.0  1.0\n",
        "\n",
        "[:, :, 4] =\n",
        " 1.0  1.0  1.0  1.0"
       ]
      }
     ],
     "prompt_number": 131
    },
    {
     "cell_type": "code",
     "collapsed": false,
     "input": [
      "a=az[1,:,1]\n",
      "for i in 2:3\n",
      "    a=vcat(a,az[1,:,i])\n",
      "end\n",
      "    "
     ],
     "language": "python",
     "metadata": {},
     "outputs": [],
     "prompt_number": 132
    },
    {
     "cell_type": "code",
     "collapsed": false,
     "input": [
      "a"
     ],
     "language": "python",
     "metadata": {},
     "outputs": [
      {
       "metadata": {},
       "output_type": "pyout",
       "prompt_number": 146,
       "text": [
        "3x4 Array{Float64,2}:\n",
        " 1.0  1.0  1.0  1.0\n",
        " 1.0  1.0  1.0  1.0\n",
        " 1.0  1.0  1.0  1.0"
       ]
      }
     ],
     "prompt_number": 146
    }
   ],
   "metadata": {}
  }
 ]
}