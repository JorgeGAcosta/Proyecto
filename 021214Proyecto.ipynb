{
 "metadata": {
  "language": "Julia",
  "name": "",
  "signature": "sha256:c811e135601acb19006b8b80fcbb4cdc94b3c46fc730ffc65f28b1722931abf7"
 },
 "nbformat": 3,
 "nbformat_minor": 0,
 "worksheets": [
  {
   "cells": [
    {
     "cell_type": "heading",
     "level": 1,
     "metadata": {},
     "source": [
      "Resoluci\u00f3n de la ecuaci\u00f3n de calor en una dimensi\u00f3n"
     ]
    },
    {
     "cell_type": "markdown",
     "metadata": {},
     "source": [
      "En una dimension se tiene la ecuaci\u00f3n discreta para la ecuaci\u00f3n de calor.\n",
      "\n",
      "\n",
      "${u_i}^{k+1}= {u_i}^{k}+\\displaystyle\\frac{c\\delta t}{{\\delta s}^2}({u_{i+1}}^{k}-2{u_i}^{k}+{u_{i-1}}^{k}) $\n",
      "\n",
      "donde u es la temperatura,c es la constante de difusion,$\\delta t$ el paso de tiempo,$\\delta s$ la distancia entre dos puntos adyacentes de la discretizacion.El indice i discretiza el espacio, mientras que k el tiempo."
     ]
    },
    {
     "cell_type": "markdown",
     "metadata": {},
     "source": [
      "Se define una funci\u00f3n que da el paso de tiempo adecuado. Para que el m\u00e9todo de diferencias finitas sea estable se requiere que el paso de tiempo cumpla la desigualdad\n",
      "\n",
      "$\\delta t \\leq \\displaystyle\\frac{(\\delta s)^2}{2c}$"
     ]
    },
    {
     "cell_type": "code",
     "collapsed": false,
     "input": [
      "function pasodetiempo(ds,c,tiempo)\n",
      "    n=1\n",
      "    while tiempo>(n*(ds^2)/(2*c))\n",
      "       n=n+1\n",
      "    end\n",
      "    paso=tiempo/(2*n)\n",
      "end"
     ],
     "language": "python",
     "metadata": {},
     "outputs": [
      {
       "metadata": {},
       "output_type": "pyout",
       "prompt_number": 1,
       "text": [
        "pasodetiempo (generic function with 1 method)"
       ]
      }
     ],
     "prompt_number": 1
    },
    {
     "cell_type": "code",
     "collapsed": false,
     "input": [
      "function calor1(rejilla,tiempofinal,c,g,h,a,b)\n",
      "    #c constante de difusion,g es una funcion del tiempo que me da la temperatura en el punto \n",
      "    #inicial de la barra,h tambien es una funcion dependiente del tiempo con la cual se calcula la temperatura en el punto final \n",
      "    #de la barra, a y b son los puntos iniciales y finales de la barra.\n",
      "    reja,ds=rejilla\n",
      "    n=length(reja)\n",
      "    #df=tiempofinal/(divt-1)\n",
      "    df=pasodetiempo(ds,c,tiempofinal)\n",
      "    reja[1]=g(0,a)\n",
      "    reja[n]=h(0,b)\n",
      "    solucion=vcat(zeros(n)',reja')\n",
      "    renglon=zeros(n)\n",
      "    for i in  df:df:tiempofinal\n",
      "        j=2\n",
      "        while j<n\n",
      "            z=int(i/df)+1\n",
      "        renglon[1]=g(i,a)\n",
      "        renglon[n]=h(i,b)\n",
      "           \n",
      "            renglon[j]=round(solucion[z,j]+(c*df/(ds^2))*(solucion[z,j+1]-2*solucion[z,j]+solucion[z,j-1]),3)\n",
      "            j=j+1\n",
      "        end\n",
      "        solucion=vcat(solucion,renglon')\n",
      "        \n",
      "end\n",
      "    solucion[2:end;:]\n",
      "end"
     ],
     "language": "python",
     "metadata": {},
     "outputs": [
      {
       "metadata": {},
       "output_type": "pyout",
       "prompt_number": 2,
       "text": [
        "calor1 (generic function with 1 method)"
       ]
      }
     ],
     "prompt_number": 2
    },
    {
     "cell_type": "code",
     "collapsed": false,
     "input": [
      "#Esta funci\u00f3n crea una rejilla de dimensi\u00f3n 1, 2 o 3 con un n\u00famero de divisiones dado y llena cada espacio con el valor de la \n",
      "#temperatura al tiempo cero. Adem\u00e1s, deja libres los valores en la frontera, para llenarlos posteriormente.\n",
      "function rejilla (dimension, longitud, num_puntos,temp_0)                                                                                                       \n",
      "    \u0394s=longitud/(num_puntos-1)                                                                                                                                  \n",
      "    if dimension==1                                                                                                                                             \n",
      "        A=zeros(num_puntos)                                                                                                                                     \n",
      "        for i in 2:num_puntos-1                                                                                                                                 \n",
      "            A[i]=temp_0((i-1)*\u0394s)                                                                                                                               \n",
      "        end                                                                                                                                                     \n",
      "    end                                                                                                                                                         \n",
      "    if dimension==2                                                                                                                                             \n",
      "        A=zeros(num_puntos,num_puntos)                                                                                                                          \n",
      "        for i in 2:num_puntos-1                                                                                                                                 \n",
      "            for j in 2:num_puntos-1                                                                                                                             \n",
      "                A[i,j]=temp_0((i-1)*\u0394s,(j-1)*\u0394s)                                                                                                                \n",
      "            end                                                                                                                                                 \n",
      "        end                                                                                                                                                     \n",
      "    end                                                                                                                                                         \n",
      "    if dimension==3                                                                                                                                             \n",
      "            A=zeros(num_puntos,num_puntos,num_puntos)                                                                                                           \n",
      "        for i in 2:num_puntos-1                                                                                                                                 \n",
      "            for j in 2:num_puntos-1                                                                                                                             \n",
      "                for k in 2:num_puntos-1                                                                                                                         \n",
      "                    A[i,j,k]=temp_0((i-1)*\u0394s,(j-1)*\u0394s,(k-1)*\u0394s)                                                                                                 \n",
      "                end                                                                                                                                             \n",
      "            end                                                                                                                                                 \n",
      "        end                                                                                                                                                     \n",
      "    end                                                                                                                                                         \n",
      "    return A, \u0394s                                                                                                                                                \n",
      "end   "
     ],
     "language": "python",
     "metadata": {},
     "outputs": [
      {
       "metadata": {},
       "output_type": "pyout",
       "prompt_number": 3,
       "text": [
        "rejilla (generic function with 1 method)"
       ]
      }
     ],
     "prompt_number": 3
    },
    {
     "cell_type": "code",
     "collapsed": false,
     "input": [
      "temperaturaprueba(x)=x"
     ],
     "language": "python",
     "metadata": {},
     "outputs": [
      {
       "metadata": {},
       "output_type": "pyout",
       "prompt_number": 4,
       "text": [
        "temperaturaprueba (generic function with 1 method)"
       ]
      }
     ],
     "prompt_number": 4
    },
    {
     "cell_type": "code",
     "collapsed": false,
     "input": [
      "barra1=rejilla(1,5,15,temperaturaprueba)"
     ],
     "language": "python",
     "metadata": {},
     "outputs": [
      {
       "metadata": {},
       "output_type": "pyout",
       "prompt_number": 5,
       "text": [
        "([0.0,0.357143,0.714286,1.07143,1.42857,1.78571,2.14286,2.5,2.85714,3.21429,3.57143,3.92857,4.28571,4.64286,0.0],0.35714285714285715)"
       ]
      }
     ],
     "prompt_number": 5
    },
    {
     "cell_type": "code",
     "collapsed": false,
     "input": [
      "temperaturapuntoa(t,x)=x^2\n",
      "temperaturapuntob(t,x)=x^3"
     ],
     "language": "python",
     "metadata": {},
     "outputs": [
      {
       "metadata": {},
       "output_type": "pyout",
       "prompt_number": 6,
       "text": [
        "temperaturapuntob (generic function with 1 method)"
       ]
      }
     ],
     "prompt_number": 6
    },
    {
     "cell_type": "code",
     "collapsed": false,
     "input": [
      "calor1(barra1,20,1,temperaturapuntoa,temperaturapuntob,0,5);"
     ],
     "language": "python",
     "metadata": {},
     "outputs": [],
     "prompt_number": 7
    },
    {
     "cell_type": "heading",
     "level": 2,
     "metadata": {},
     "source": [
      "Resoluci\u00f3n en dos dimensiones"
     ]
    },
    {
     "cell_type": "markdown",
     "metadata": {},
     "source": [
      "La ecuaci\u00f3n de calor discretizada esta dada por\n",
      "\n",
      "\n",
      "${u_{ij}}^{k+1}= {u_{ij}}^{k}+\\displaystyle\\frac{c\\delta t}{{\\delta s}^2}({u_{i+1,j}}^{k}+{u_{i-1,j}}^{k}-4{u_{ij}}^{k}+{u_{i,j+1}}^{k}+{u_{i,j-1}}^{k}) $"
     ]
    },
    {
     "cell_type": "code",
     "collapsed": false,
     "input": [
      "pruebatemp2d(x,y)=x+y"
     ],
     "language": "python",
     "metadata": {},
     "outputs": [
      {
       "metadata": {},
       "output_type": "pyout",
       "prompt_number": 8,
       "text": [
        "pruebatemp2d (generic function with 1 method)"
       ]
      }
     ],
     "prompt_number": 8
    },
    {
     "cell_type": "code",
     "collapsed": false,
     "input": [
      "rejaen2d=rejilla(2,7,10,pruebatemp2d)"
     ],
     "language": "python",
     "metadata": {},
     "outputs": [
      {
       "metadata": {},
       "output_type": "pyout",
       "prompt_number": 9,
       "text": [
        "(\n",
        "10x10 Array{Float64,2}:\n",
        " 0.0  0.0      0.0      0.0      \u2026   0.0       0.0       0.0      0.0\n",
        " 0.0  1.55556  2.33333  3.11111      5.44444   6.22222   7.0      0.0\n",
        " 0.0  2.33333  3.11111  3.88889      6.22222   7.0       7.77778  0.0\n",
        " 0.0  3.11111  3.88889  4.66667      7.0       7.77778   8.55556  0.0\n",
        " 0.0  3.88889  4.66667  5.44444      7.77778   8.55556   9.33333  0.0\n",
        " 0.0  4.66667  5.44444  6.22222  \u2026   8.55556   9.33333  10.1111   0.0\n",
        " 0.0  5.44444  6.22222  7.0          9.33333  10.1111   10.8889   0.0\n",
        " 0.0  6.22222  7.0      7.77778     10.1111   10.8889   11.6667   0.0\n",
        " 0.0  7.0      7.77778  8.55556     10.8889   11.6667   12.4444   0.0\n",
        " 0.0  0.0      0.0      0.0          0.0       0.0       0.0      0.0,\n",
        "\n",
        "0.7777777777777778)"
       ]
      }
     ],
     "prompt_number": 9
    },
    {
     "cell_type": "code",
     "collapsed": false,
     "input": [
      "function calor2(rejilla,tiempofinal,c,g) #g es una funcion que depende del tiempo y la posicion y da los valores en la frontera\n",
      "    #los argumentos de g son g(t,x,y)\n",
      "reja,ds=rejilla\n",
      "n=length(reja[1,:])\n",
      "df=pasodetiempo(ds,c,tiempofinal)\n",
      "    tamanotiempo=int(tiempofinal/df)+1\n",
      "#Fijo los valores inciales en las fronteras\n",
      "for i in 1:n\n",
      "        reja[1,i]=g(0,ds*(i-1),0)\n",
      "        reja[i,1]=g(0,0,ds*(i-1))\n",
      "        reja[i,n]=g(0,(n-1)*ds,ds*(i-1))\n",
      "        reja[n,i]=g(0,ds*(i-1),(n-1)*ds)\n",
      "    end\n",
      "#Introduzco un arreglo con tres indices, el primer indice corresponde al tiempo y los otros dos a las posiciones x y y(en ese orden)\n",
      "    solucion=zeros(tamanotiempo,n,n)\n",
      "    for i in 1:n,j in 1:n    \n",
      "        solucion[1,i,j]=reja[i,j]\n",
      "    end\n",
      "#Ahora se aplica la ecuacion que discretiza la ecuacion de calor\n",
      "for k in 2:tamanotiempo\n",
      "        #Primero se fijan las fronteras         \n",
      "        for i in 1:n\n",
      "        solucion[k,1,i]=g(0,ds*(i-1),0)\n",
      "        solucion[k,i,1]=g(0,0,ds*(i-1))\n",
      "        solucion[k,i,n]=g(0,(n-1)*ds,ds*(i-1))\n",
      "        solucion[k,n,i]=g(0,ds*(i-1),(n-1)*ds)\n",
      "    end \n",
      "        #Se aplica la ecuacion de calor a cada punto interior\n",
      "        for i in 2:n-1,j in 2:n-1  \n",
      "            solucion[k,i,j]=solucion[k-1,i,j]+(c*df/(ds^2))*(solucion[k-1,i+1,j]+solucion[k-1,i-1,j]-4*solucion[k-1,i,j]+solucion[k-1,i,j+1]+solucion[k-1,i,j-1])\n",
      "        end\n",
      "    end\n",
      "    #Coloco el tiempo en el primer indice\n",
      "for i in 1:tamanotiempo-1\n",
      "        solucion[i+1,1,1]=i*df\n",
      "        end\n",
      "    solucion,df,ds\n",
      "end\n"
     ],
     "language": "python",
     "metadata": {},
     "outputs": [
      {
       "metadata": {},
       "output_type": "pyout",
       "prompt_number": 10,
       "text": [
        "calor2 (generic function with 1 method)"
       ]
      }
     ],
     "prompt_number": 10
    },
    {
     "cell_type": "code",
     "collapsed": false,
     "input": [
      "frontera2d(t,x,y)=x^2+y"
     ],
     "language": "python",
     "metadata": {},
     "outputs": [
      {
       "metadata": {},
       "output_type": "pyout",
       "prompt_number": 11,
       "text": [
        "frontera2d (generic function with 1 method)"
       ]
      }
     ],
     "prompt_number": 11
    },
    {
     "cell_type": "code",
     "collapsed": false,
     "input": [
      "pruebaen2d,deltat,deltas=calor2(rejaen2d,15.3,1,frontera2d);"
     ],
     "language": "python",
     "metadata": {},
     "outputs": [],
     "prompt_number": 12
    },
    {
     "cell_type": "code",
     "collapsed": false,
     "input": [
      "deltat,deltas"
     ],
     "language": "python",
     "metadata": {},
     "outputs": [
      {
       "metadata": {},
       "output_type": "pyout",
       "prompt_number": 13,
       "text": [
        "(0.15,0.7777777777777778)"
       ]
      }
     ],
     "prompt_number": 13
    },
    {
     "cell_type": "code",
     "collapsed": false,
     "input": [
      "paragrafica=pruebaen2d[2,:,1]    "
     ],
     "language": "python",
     "metadata": {},
     "outputs": [
      {
       "metadata": {},
       "output_type": "pyout",
       "prompt_number": 14,
       "text": [
        "1x10 Array{Float64,2}:\n",
        " 0.15  0.777778  1.55556  2.33333  3.11111  \u2026  4.66667  5.44444  6.22222  7.0"
       ]
      }
     ],
     "prompt_number": 14
    },
    {
     "cell_type": "code",
     "collapsed": false,
     "input": [
      "for i in 2:10\n",
      "    paragrafica=vcat(paragrafica,pruebaen2d[2,:,i])\n",
      "end"
     ],
     "language": "python",
     "metadata": {},
     "outputs": [],
     "prompt_number": 15
    },
    {
     "cell_type": "code",
     "collapsed": false,
     "input": [
      "using PyPlot"
     ],
     "language": "python",
     "metadata": {},
     "outputs": [
      {
       "output_type": "stream",
       "stream": "stderr",
       "text": [
        "INFO: Loading help data...\n"
       ]
      }
     ],
     "prompt_number": 16
    },
    {
     "cell_type": "code",
     "collapsed": false,
     "input": [
      "paragrafica"
     ],
     "language": "python",
     "metadata": {},
     "outputs": [
      {
       "metadata": {},
       "output_type": "pyout",
       "prompt_number": 17,
       "text": [
        "10x10 Array{Float64,2}:\n",
        "  0.15       0.777778   1.55556   2.33333  \u2026   5.44444   6.22222   7.0    \n",
        "  0.604938   1.5127     2.33333   3.11111      6.22222   6.95714   7.60494\n",
        "  2.41975    2.54762    3.11111   3.88889      7.0       7.99206   9.41975\n",
        "  5.44444    3.88254    3.88889   4.66667      7.77778   9.32698  12.4444 \n",
        "  9.67901    5.51746    4.66667   5.44444      8.55556  10.9619   16.679  \n",
        " 15.1235     7.45238    5.44444   6.22222  \u2026   9.33333  12.8968   22.1235 \n",
        " 21.7778     9.6873     6.22222   7.0         10.1111   15.1317   28.7778 \n",
        " 29.642     12.2222     7.0       7.77778     10.8889   17.6667   36.642  \n",
        " 38.716     25.4714    18.1921   18.9698      22.081    30.9159   45.716  \n",
        " 49.0       49.7778    50.5556   51.3333      54.4444   55.2222   56.0    "
       ]
      }
     ],
     "prompt_number": 17
    },
    {
     "cell_type": "code",
     "collapsed": false,
     "input": [
      "imshow(paragrafica)\n",
      "plt.colorbar()"
     ],
     "language": "python",
     "metadata": {},
     "outputs": [
      {
       "metadata": {},
       "output_type": "display_data",
       "png": "[encoded data removed]",
       "text": [
        "Figure(PyObject <matplotlib.figure.Figure object at 0x7f30fce80490>)"
       ]
      },
      {
       "metadata": {},
       "output_type": "pyout",
       "prompt_number": 18,
       "text": [
        "PyObject <matplotlib.colorbar.Colorbar instance at 0x7f30fc892878>"
       ]
      }
     ],
     "prompt_number": 18
    },
    {
     "cell_type": "heading",
     "level": 3,
     "metadata": {},
     "source": [
      "Resoluci&oacute;n en una region irregular en dos dimensiones"
     ]
    },
    {
     "cell_type": "markdown",
     "metadata": {},
     "source": [
      "Se resolvera en una region irregular, para este fin, se requiere que la regi&oacute;n a resolver se encuentre en un formato pbm. Para asi codificar la imagen en unos y ceros, con esto sera posible asignar las condciones a la frontera y las condiciones iniciales."
     ]
    },
    {
     "cell_type": "code",
     "collapsed": false,
     "input": [
      "using Images\n",
      "using FixedPointNumbers"
     ],
     "language": "python",
     "metadata": {},
     "outputs": [],
     "prompt_number": 19
    },
    {
     "cell_type": "code",
     "collapsed": false,
     "input": [
      "img = imread(\"regionirregular.pbm\")\n",
      "#show(img)"
     ],
     "language": "python",
     "metadata": {},
     "outputs": [
      {
       "metadata": {},
       "output_type": "pyout",
       "png": "[encoded data removed]",
       "prompt_number": 20,
       "text": [
        "Gray Image with:\n",
        "  data: 16x16 Array{Gray{UfixedBase{Uint8,8}},2}\n",
        "  properties:\n",
        "    IMcs: Gray\n",
        "    spatialorder:  x y\n",
        "    pixelspacing:  1 1"
       ]
      }
     ],
     "prompt_number": 20
    },
    {
     "cell_type": "code",
     "collapsed": false,
     "input": [
      "domain = int(data(reinterpret(Ufixed8, img))');\n",
      "nx, ny = size(domain)"
     ],
     "language": "python",
     "metadata": {},
     "outputs": [
      {
       "metadata": {},
       "output_type": "pyout",
       "prompt_number": 21,
       "text": [
        "(16,16)"
       ]
      }
     ],
     "prompt_number": 21
    },
    {
     "cell_type": "markdown",
     "metadata": {},
     "source": [
      "En la variable \"domain\", se encuentra guardada la imagen. Solo que ahora esta codificada en ceros y unos. El cero se corresponde con el negro y el uno con el blanco. A continuaci&oacute;n se fijan las condiciones iniciales, para ello se definen dos funciones, una solo act&uacute;a sobre la frontera y la otra sobre los puntos en los que propiamente se resolvera la ecuaci&oacute;n de calor.\n",
      "\n",
      "Primero se define la funci&oacute;n que da las condiciones en la frontera.Esta funci&oacute;n tiene como argumentos el tiempo,el dominio,el largo del dominio, el paso espacial, y una matriz que contiene las temperaturas en los puntos interiores al tiempo t y finalmente una funci&oacute;n que da las condiciones a la frontera y depende del tiempo,la posici&oacute;n y el paso espacial (en ese orden)."
     ]
    },
    {
     "cell_type": "code",
     "collapsed": false,
     "input": [
      "function frontera(t,dominio,\u0394s,f)\n",
      "    nx,ny=size(dominio)\n",
      "    dominio=float(dominio)\n",
      "for i in 1:nx,j in 1:nx\n",
      "    if dominio[i,j]==0\n",
      "            dominio[i,j]=f(t,(i-1)*\u0394s,(j-1)*\u0394s)\n",
      "    end\n",
      "end\n",
      "    dominio    \n",
      "end"
     ],
     "language": "python",
     "metadata": {},
     "outputs": [
      {
       "metadata": {},
       "output_type": "pyout",
       "prompt_number": 22,
       "text": [
        "frontera (generic function with 1 method)"
       ]
      }
     ],
     "prompt_number": 22
    },
    {
     "cell_type": "code",
     "collapsed": false,
     "input": [
      "function frontera(t,dominio,\u0394s,reja,f)\n",
      "    nx,ny=size(dominio)\n",
      "    dominio=float(dominio)\n",
      "for i in 1:nx,j in 1:nx\n",
      "    if dominio[i,j]==0\n",
      "            reja[i,j]=f(t,(i-1)*\u0394s,(j-1)*\u0394s)\n",
      "    end\n",
      "end\n",
      "    reja    \n",
      "end"
     ],
     "language": "python",
     "metadata": {},
     "outputs": [
      {
       "metadata": {},
       "output_type": "pyout",
       "prompt_number": 23,
       "text": [
        "frontera (generic function with 2 methods)"
       ]
      }
     ],
     "prompt_number": 23
    },
    {
     "cell_type": "markdown",
     "metadata": {},
     "source": [
      "Se define la funci&oacute;n que da las condiciones iniciales en los puntos a resolver la ecuaci&oacute;n de calor. Tiene como argumentos el dominio,el largo del dominio, el paso espacial y la funci&oacute;n que define la temperatura en los puntos interiores."
     ]
    },
    {
     "cell_type": "code",
     "collapsed": false,
     "input": [
      "function condicionesiniciales(dominio,\u0394s,f)\n",
      "    nx,ny=size(dominio)\n",
      "    dominio=float(dominio)\n",
      "    for i in 2:nx,j  in 2:nx\n",
      "        if dominio[i,j]==1\n",
      "            dominio[i,j]=f((i-1)*\u0394s,(j-1)*\u0394s)\n",
      "        end\n",
      "    end\n",
      "    dominio\n",
      "end"
     ],
     "language": "python",
     "metadata": {},
     "outputs": [
      {
       "metadata": {},
       "output_type": "pyout",
       "prompt_number": 24,
       "text": [
        "condicionesiniciales (generic function with 1 method)"
       ]
      }
     ],
     "prompt_number": 24
    },
    {
     "cell_type": "markdown",
     "metadata": {},
     "source": [
      "Con ayuda de las funciones anteriores se puede construir la funci&oacute;n que resuelve la ecuaci&oacute;n de calor."
     ]
    },
    {
     "cell_type": "code",
     "collapsed": false,
     "input": [
      "function calorirregular(reja,tiempofinal,c,f,ds,dominio) #f es una funcion que dictamina las condiciones de frontera\n",
      "    #ds es el paso espacial\n",
      "    n=length(reja[1,:])\n",
      "df=pasodetiempo(ds,c,tiempofinal)\n",
      "    tamanotiempo=int(tiempofinal/df)+1\n",
      "#Introduzco un arreglo con tres indices, el primer indice corresponde al tiempo y los otros dos a las posiciones x y y(en ese orden)\n",
      "    solucion=zeros(tamanotiempo,n,n)\n",
      "    for i in 1:n,j in 1:n    \n",
      "        solucion[1,i,j]=reja[i,j]\n",
      "    end\n",
      "     \n",
      "for k in 2:tamanotiempo\n",
      "        #Primero se fijan las condiciones de frontera        \n",
      "        for i in 1:n, j in 1:n\n",
      "            solucion[k,i,j]=frontera(k*df,dominio,ds,f)[i,j]\n",
      "        end\n",
      "    \n",
      "#Se aplica la ecuacion de calor a cada punto interior\n",
      "        for i in 2:n-1,j in 2:n-1 \n",
      "        if dominio[i,j]==1\n",
      "            solucion[k,i,j]=solucion[k-1,i,j]+(c*df/(ds^2))*(solucion[k-1,i+1,j]+solucion[k-1,i-1,j]-4*solucion[k-1,i,j]+solucion[k-1,i,j+1]+solucion[k-1,i,j-1])\n",
      "        end\n",
      "    end\n",
      "    end\n",
      "    #Coloco el tiempo en el primer indice\n",
      "for i in 1:tamanotiempo-1\n",
      "        solucion[i+1,1,1]=i*df\n",
      "        end\n",
      "    solucion,df,ds\n",
      "end"
     ],
     "language": "python",
     "metadata": {},
     "outputs": [
      {
       "metadata": {},
       "output_type": "pyout",
       "prompt_number": 25,
       "text": [
        "calorirregular (generic function with 1 method)"
       ]
      }
     ],
     "prompt_number": 25
    },
    {
     "cell_type": "markdown",
     "metadata": {},
     "source": [
      "Ahora se muestra un ejemplo de como hacer funcionar el c&oacute;digo anterior"
     ]
    },
    {
     "cell_type": "code",
     "collapsed": false,
     "input": [
      "pruebairr1=condicionesiniciales(domain,0.5,pruebatemp2d)\n",
      "funcionconstantedeprueba(t,x,y)=20\n",
      "pruebairr1a=frontera(0,domain,0.5,pruebairr1,funcionconstantedeprueba);"
     ],
     "language": "python",
     "metadata": {},
     "outputs": [],
     "prompt_number": 26
    },
    {
     "cell_type": "code",
     "collapsed": false,
     "input": [
      "placairregular,pasoirti,pasoespirr=calorirregular(pruebairr1a,15,1,funcionconstantedeprueba,0.5,domain);"
     ],
     "language": "python",
     "metadata": {},
     "outputs": [],
     "prompt_number": 27
    },
    {
     "cell_type": "code",
     "collapsed": false,
     "input": [
      "poiu=size(placairregular)"
     ],
     "language": "python",
     "metadata": {},
     "outputs": [
      {
       "metadata": {},
       "output_type": "pyout",
       "prompt_number": 28,
       "text": [
        "(241,16,16)"
       ]
      }
     ],
     "prompt_number": 28
    },
    {
     "cell_type": "code",
     "collapsed": false,
     "input": [
      "placaenuntiempo=placairregular[241,:,1] \n",
      "for i in 2:16\n",
      "    placaenuntiempo=vcat(placaenuntiempo,placairregular[241,:,i])\n",
      "end"
     ],
     "language": "python",
     "metadata": {},
     "outputs": [],
     "prompt_number": 29
    },
    {
     "cell_type": "code",
     "collapsed": false,
     "input": [
      "placaenuntiempo"
     ],
     "language": "python",
     "metadata": {},
     "outputs": [
      {
       "metadata": {},
       "output_type": "pyout",
       "prompt_number": 30,
       "text": [
        "16x16 Array{Float64,2}:\n",
        " 15.0  20.0     20.0     20.0     20.0     \u2026  20.0     20.0     20.0     20.0\n",
        " 20.0  19.9995  19.9991  19.9988  19.9985     20.0     20.0     20.0     20.0\n",
        " 20.0  19.9991  19.9983  19.9976  19.9971     20.0     20.0     20.0     20.0\n",
        " 20.0  19.9987  19.9976  19.9966  19.9959     20.0     20.0     20.0     20.0\n",
        " 20.0  19.9984  19.9969  19.9957  19.9948     20.0     20.0     20.0     20.0\n",
        " 20.0  19.9982  19.9965  19.995   19.9939  \u2026  20.0     20.0     20.0     20.0\n",
        " 20.0  19.998   19.9962  19.9946  19.9934     19.9984  19.999   19.9995  20.0\n",
        " 20.0  19.998   19.9962  19.9946  19.9933     19.9972  19.9981  19.9991  20.0\n",
        " 20.0  19.9982  19.9964  19.9949  19.9936     19.9963  19.9975  19.9987  20.0\n",
        " 20.0  19.9985  19.997   19.9956  19.9944     19.9959  19.9972  19.9986  20.0\n",
        " 20.0  19.9989  19.9978  19.9968  19.9958  \u2026  19.9959  19.9972  19.9985  20.0\n",
        " 20.0  19.9994  19.9988  19.9983  19.9977     19.9962  19.9974  19.9987  20.0\n",
        " 20.0  20.0     20.0     20.0     20.0        19.9969  19.9979  19.9989  20.0\n",
        " 20.0  20.0     20.0     20.0     20.0        19.9978  19.9985  19.9992  20.0\n",
        " 20.0  20.0     20.0     20.0     20.0        19.9989  19.9992  19.9996  20.0\n",
        " 20.0  20.0     20.0     20.0     20.0     \u2026  20.0     20.0     20.0     20.0"
       ]
      }
     ],
     "prompt_number": 30
    },
    {
     "cell_type": "markdown",
     "metadata": {},
     "source": [
      "Para hacer m&aacute;s f&aacute;cil la presentaci&oacute;n de resultados, construyo una funci&oacute;m que da la distribuci&oacute;n de temperaturas al tiempo t."
     ]
    },
    {
     "cell_type": "code",
     "collapsed": false,
     "input": [
      "function Temperaturas(solucion,tiempo,pasotiempo)\n",
      "    indiceeneltiempo=int(tiempo/pasotiempo)\n",
      "    largo=size(solucion)\n",
      "    placa=solucion[indiceeneltiempo,:,1]\n",
      "    for i in 2:largo[2]\n",
      "        placa=vcat(placa,solucion[indiceeneltiempo,:,i])\n",
      "end\n",
      "    placa\n",
      "end"
     ],
     "language": "python",
     "metadata": {},
     "outputs": [
      {
       "metadata": {},
       "output_type": "pyout",
       "prompt_number": 31,
       "text": [
        "Temperaturas (generic function with 1 method)"
       ]
      }
     ],
     "prompt_number": 31
    },
    {
     "cell_type": "code",
     "collapsed": false,
     "input": [
      "Temperaturas(placairregular,10,pasoirti)"
     ],
     "language": "python",
     "metadata": {},
     "outputs": [
      {
       "metadata": {},
       "output_type": "pyout",
       "prompt_number": 32,
       "text": [
        "16x16 Array{Float64,2}:\n",
        "  9.9375  20.0     20.0     20.0     \u2026  20.0     20.0     20.0     20.0\n",
        " 20.0     19.9936  19.9877  19.9829     20.0     20.0     20.0     20.0\n",
        " 20.0     19.9875  19.9761  19.9664     20.0     20.0     20.0     20.0\n",
        " 20.0     19.9821  19.9654  19.9517     20.0     20.0     20.0     20.0\n",
        " 20.0     19.9775  19.9568  19.939      20.0     20.0     20.0     20.0\n",
        " 20.0     19.9742  19.9501  19.9298  \u2026  20.0     20.0     20.0     20.0\n",
        " 20.0     19.9724  19.9467  19.9241     19.9781  19.9857  19.9929  20.0\n",
        " 20.0     19.9725  19.9463  19.9237     19.9601  19.9737  19.9868  20.0\n",
        " 20.0     19.9743  19.9501  19.928      19.9482  19.965   19.9825  20.0\n",
        " 20.0     19.9784  19.9575  19.9386     19.9421  19.9608  19.9801  20.0\n",
        " 20.0     19.9842  19.969   19.9544  \u2026  19.9423  19.9603  19.9799  20.0\n",
        " 20.0     19.9917  19.9835  19.9756     19.9473  19.9637  19.9814  20.0\n",
        " 20.0     20.0     20.0     20.0        19.9569  19.9699  19.9847  20.0\n",
        " 20.0     20.0     20.0     20.0        19.9694  19.9787  19.989   20.0\n",
        " 20.0     20.0     20.0     20.0        19.9843  19.9889  19.9943  20.0\n",
        " 20.0     20.0     20.0     20.0     \u2026  20.0     20.0     20.0     20.0"
       ]
      }
     ],
     "prompt_number": 32
    },
    {
     "cell_type": "code",
     "collapsed": false,
     "input": [
      "using PyCall\n",
      "using PyPlot\n",
      "\n",
      "@pyimport matplotlib.animation as anim"
     ],
     "language": "python",
     "metadata": {},
     "outputs": [],
     "prompt_number": 34
    },
    {
     "cell_type": "code",
     "collapsed": false,
     "input": [
      "function pasosenlasrejas(j)\n",
      "    placaenuntiempo=placairregular[j,:,1] \n",
      "for i in 2:16\n",
      "    placaenuntiempo=vcat(placaenuntiempo,placairregular[j,:,i])\n",
      "end\n",
      "    placaenuntiempo\n",
      "end"
     ],
     "language": "python",
     "metadata": {},
     "outputs": [
      {
       "metadata": {},
       "output_type": "pyout",
       "prompt_number": 68,
       "text": [
        "pasosenlasrejas (generic function with 1 method)"
       ]
      }
     ],
     "prompt_number": 68
    },
    {
     "cell_type": "code",
     "collapsed": false,
     "input": [
      "pasosenlasrejas(241)"
     ],
     "language": "python",
     "metadata": {},
     "outputs": [
      {
       "metadata": {},
       "output_type": "pyout",
       "prompt_number": 72,
       "text": [
        "16x16 Array{Float64,2}:\n",
        " 15.0  20.0     20.0     20.0     20.0     \u2026  20.0     20.0     20.0     20.0\n",
        " 20.0  19.9995  19.9991  19.9988  19.9985     20.0     20.0     20.0     20.0\n",
        " 20.0  19.9991  19.9983  19.9976  19.9971     20.0     20.0     20.0     20.0\n",
        " 20.0  19.9987  19.9976  19.9966  19.9959     20.0     20.0     20.0     20.0\n",
        " 20.0  19.9984  19.9969  19.9957  19.9948     20.0     20.0     20.0     20.0\n",
        " 20.0  19.9982  19.9965  19.995   19.9939  \u2026  20.0     20.0     20.0     20.0\n",
        " 20.0  19.998   19.9962  19.9946  19.9934     19.9984  19.999   19.9995  20.0\n",
        " 20.0  19.998   19.9962  19.9946  19.9933     19.9972  19.9981  19.9991  20.0\n",
        " 20.0  19.9982  19.9964  19.9949  19.9936     19.9963  19.9975  19.9987  20.0\n",
        " 20.0  19.9985  19.997   19.9956  19.9944     19.9959  19.9972  19.9986  20.0\n",
        " 20.0  19.9989  19.9978  19.9968  19.9958  \u2026  19.9959  19.9972  19.9985  20.0\n",
        " 20.0  19.9994  19.9988  19.9983  19.9977     19.9962  19.9974  19.9987  20.0\n",
        " 20.0  20.0     20.0     20.0     20.0        19.9969  19.9979  19.9989  20.0\n",
        " 20.0  20.0     20.0     20.0     20.0        19.9978  19.9985  19.9992  20.0\n",
        " 20.0  20.0     20.0     20.0     20.0        19.9989  19.9992  19.9996  20.0\n",
        " 20.0  20.0     20.0     20.0     20.0     \u2026  20.0     20.0     20.0     20.0"
       ]
      }
     ],
     "prompt_number": 72
    },
    {
     "cell_type": "code",
     "collapsed": false,
     "input": [
      "# Configuraci\u00f3n del lienzo\n",
      "fig = figure()\n",
      "ax = plt.axes(xlim=(0, 15), ylim=(0,15))\n",
      "\n",
      "global img = ax[:imshow](pruebairr1, cmap=get_cmap(\"autumn\"))\n",
      "function animate(i)\n",
      "    global img\n",
      "    # Aqu\u00ed deben poner una matriz que resulta de resolver, por ejemplo, la ecuaci\u00f3n del calor\n",
      "    img[:set_array](pasosenlasrejas(i+1))\n",
      "    return (img, None)\n",
      "end"
     ],
     "language": "python",
     "metadata": {},
     "outputs": [
      {
       "metadata": {},
       "output_type": "display_data",
       "png": "[encoded data removed]",
       "text": [
        "Figure(PyObject <matplotlib.figure.Figure object at 0x7f30fb2681d0>)"
       ]
      },
      {
       "metadata": {},
       "output_type": "pyout",
       "prompt_number": 73,
       "text": [
        "animate (generic function with 1 method)"
       ]
      }
     ],
     "prompt_number": 73
    },
    {
     "cell_type": "code",
     "collapsed": false,
     "input": [
      "animate(2)"
     ],
     "language": "python",
     "metadata": {},
     "outputs": [
      {
       "metadata": {},
       "output_type": "pyout",
       "prompt_number": 60,
       "text": [
        "(PyObject <matplotlib.image.AxesImage object at 0x7f30fb2ebf90>,None)"
       ]
      }
     ],
     "prompt_number": 60
    },
    {
     "cell_type": "code",
     "collapsed": false,
     "input": [
      "myanim = anim.FuncAnimation(fig, animate, frames=241, interval=1, blit=true);"
     ],
     "language": "python",
     "metadata": {},
     "outputs": [],
     "prompt_number": 77
    },
    {
     "cell_type": "code",
     "collapsed": false,
     "input": [
      "myanim[:save](\"calorirregular.gif\", writer=\"imagemagick\", fps=30);"
     ],
     "language": "python",
     "metadata": {},
     "outputs": [],
     "prompt_number": 79
    },
    {
     "cell_type": "markdown",
     "metadata": {},
     "source": [
      "![anim](calorirregular.gif)"
     ]
    },
    {
     "cell_type": "code",
     "collapsed": false,
     "input": [],
     "language": "python",
     "metadata": {},
     "outputs": []
    }
   ],
   "metadata": {}
  }
 ]
}